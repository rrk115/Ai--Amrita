{
  "nbformat": 4,
  "nbformat_minor": 0,
  "metadata": {
    "colab": {
      "name": "PandasT2.ipynb",
      "provenance": [],
      "collapsed_sections": [
        "IQ3ByPw28pmn",
        "icS06C1X7_oN"
      ],
      "include_colab_link": true
    },
    "kernelspec": {
      "name": "python3",
      "display_name": "Python 3"
    },
    "language_info": {
      "name": "python"
    }
  },
  "cells": [
    {
      "cell_type": "markdown",
      "metadata": {
        "id": "view-in-github",
        "colab_type": "text"
      },
      "source": [
        "<a href=\"https://colab.research.google.com/github/rrk115/Ai--Amrita/blob/main/PandasT2.ipynb\" target=\"_parent\"><img src=\"https://colab.research.google.com/assets/colab-badge.svg\" alt=\"Open In Colab\"/></a>"
      ]
    },
    {
      "cell_type": "code",
      "metadata": {
        "id": "oh-4iDiytVi9"
      },
      "source": [
        "import pandas as pd"
      ],
      "execution_count": null,
      "outputs": []
    },
    {
      "cell_type": "code",
      "metadata": {
        "id": "RP5GPsPqtpei"
      },
      "source": [
        "from google.colab import drive\n",
        "drive.mount('/content/gdrive')"
      ],
      "execution_count": null,
      "outputs": []
    },
    {
      "cell_type": "code",
      "metadata": {
        "id": "ufoaZeJZt7i7"
      },
      "source": [
        "DatasetBaseFolder = '/content/gdrive/MyDrive/ColabNotebooks/'"
      ],
      "execution_count": null,
      "outputs": []
    },
    {
      "cell_type": "markdown",
      "metadata": {
        "id": "I88gB97i5B52"
      },
      "source": [
        "**LINK CSV FILE**"
      ]
    },
    {
      "cell_type": "code",
      "metadata": {
        "id": "ZrbM7s58t-6O"
      },
      "source": [
        "purchase_df = pd.read_csv(DatasetBaseFolder+\"Purchases.csv\", index_col=\"Customer\")\n"
      ],
      "execution_count": null,
      "outputs": []
    },
    {
      "cell_type": "markdown",
      "metadata": {
        "id": "IQ3ByPw28pmn"
      },
      "source": [
        "# **PANDAS**"
      ]
    },
    {
      "cell_type": "markdown",
      "metadata": {
        "id": "0H7K0CNh48oF"
      },
      "source": [
        "**TO PRINT FIRST 2 ROWS**"
      ]
    },
    {
      "cell_type": "code",
      "metadata": {
        "id": "p1YYh35kuYqo"
      },
      "source": [
        "purchase_df.head(2)"
      ],
      "execution_count": null,
      "outputs": []
    },
    {
      "cell_type": "markdown",
      "metadata": {
        "id": "to3krLew44cj"
      },
      "source": [
        "**TO PRINT LAST ROW**"
      ]
    },
    {
      "cell_type": "code",
      "metadata": {
        "id": "L3aAimJKwmJh"
      },
      "source": [
        "purchase_df.tail(1)"
      ],
      "execution_count": null,
      "outputs": []
    },
    {
      "cell_type": "code",
      "metadata": {
        "id": "qgxpBBLbwusB"
      },
      "source": [
        "purchase_df.shape"
      ],
      "execution_count": null,
      "outputs": []
    },
    {
      "cell_type": "markdown",
      "metadata": {
        "id": "S3J1QYCP4zIa"
      },
      "source": [
        "**TO KNOW ABOUT TABLE DETAILS**"
      ]
    },
    {
      "cell_type": "code",
      "metadata": {
        "id": "EfeVQ46YyUiR"
      },
      "source": [
        "purchase_df.info()"
      ],
      "execution_count": null,
      "outputs": []
    },
    {
      "cell_type": "markdown",
      "metadata": {
        "id": "SVWBdYES4qa_"
      },
      "source": [
        "**TO CHECK WHICH COLUMN HAS NULL VALUES**"
      ]
    },
    {
      "cell_type": "code",
      "metadata": {
        "id": "A-epno7byaho"
      },
      "source": [
        "purchase_df.isnull().sum()"
      ],
      "execution_count": null,
      "outputs": []
    },
    {
      "cell_type": "code",
      "metadata": {
        "id": "PA8bwq0H1G2E"
      },
      "source": [
        "purchase_df.columns"
      ],
      "execution_count": null,
      "outputs": []
    },
    {
      "cell_type": "markdown",
      "metadata": {
        "id": "BO6cqHxu4ltS"
      },
      "source": [
        "**RENAME COLUMS**"
      ]
    },
    {
      "cell_type": "code",
      "metadata": {
        "id": "r4JHGFkP1baF"
      },
      "source": [
        "purchase_df.rename(columns={'Oranges' : 'Banana'},inplace= True)"
      ],
      "execution_count": null,
      "outputs": []
    },
    {
      "cell_type": "markdown",
      "metadata": {
        "id": "M3iyZN6E4Xc5"
      },
      "source": [
        "**TO GET COLUMS**"
      ]
    },
    {
      "cell_type": "code",
      "metadata": {
        "id": "S3NYJ85_3qDA"
      },
      "source": [
        "purchase_df.columns"
      ],
      "execution_count": null,
      "outputs": []
    },
    {
      "cell_type": "markdown",
      "metadata": {
        "id": "vN6AAy7Z4Vp2"
      },
      "source": [
        "**TO GET CUSTOMERS PURCHESD MORE APPLES**"
      ]
    },
    {
      "cell_type": "code",
      "metadata": {
        "id": "E1VH_T9x3uuY"
      },
      "source": [
        "apple = purchase_df['Apples']\n",
        "apple[apple.gt(4)]"
      ],
      "execution_count": null,
      "outputs": []
    },
    {
      "cell_type": "markdown",
      "metadata": {
        "id": "icS06C1X7_oN"
      },
      "source": [
        "# **DATA EXPLORATION**\n"
      ]
    },
    {
      "cell_type": "code",
      "metadata": {
        "id": "GehLq9nx7_4F"
      },
      "source": [
        "import matplotlib.pyplot as plt\n",
        "plt.rcParams.update({'font.size': 20, 'figure.figsize': (10, 8)})"
      ],
      "execution_count": null,
      "outputs": []
    },
    {
      "cell_type": "code",
      "metadata": {
        "id": "jo9jBIAX83Qq"
      },
      "source": [
        "purchase_df.plot(kind='scatter', x='Apples', y='Banana', title='PURCHASES APPLE vs PURCHASES BANANA');"
      ],
      "execution_count": null,
      "outputs": []
    },
    {
      "cell_type": "code",
      "metadata": {
        "id": "Fn3MwYIY9W0G"
      },
      "source": [
        "purchase_df['Apples'].plot(kind='hist', title='Apple Purchases');"
      ],
      "execution_count": null,
      "outputs": []
    },
    {
      "cell_type": "code",
      "metadata": {
        "id": "1kwCuCnW-srd"
      },
      "source": [
        "purchase_df['Banana'].plot(kind=\"box\");"
      ],
      "execution_count": null,
      "outputs": []
    }
  ]
}